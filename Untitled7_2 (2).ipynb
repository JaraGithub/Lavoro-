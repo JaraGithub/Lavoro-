{
 "cells": [
  {
   "cell_type": "markdown",
   "id": "b2399e0e",
   "metadata": {},
   "source": [
    "# Esplorando le Fondamenta della Programmazione con Python: Liste e Strutture Dati\n",
    "\n",
    "Benvenuti nell'avventura della programmazione con Python, dove esploreremo le intricate ma potenti strutture di dati che questo linguaggio offre. Le strutture di dati sono il cuore pulsante di qualsiasi programma, consentendo di organizzare e manipolare informazioni in modi efficienti e flessibili.\n",
    "\n",
    "In questo viaggio, ci concentreremo su cinque fondamentali strutture di dati in Python: numeri, stringhe, liste, tuple e dizionari, oltre ad esplorare il concetto di booleani, che sono cruciali per il controllo del flusso e le condizioni nei nostri programmi.\n",
    "\n",
    "1. **Numeri**: Dalla semplice aritmetica alle operazioni più avanzate, i numeri in Python possono essere interi, decimali o complessi, offrendo una vasta gamma di possibilità per manipolare dati quantitativi.\n",
    "\n",
    "2. **Stringhe**: La bellezza dei testi prende forma nelle stringhe Python, che consentono di manipolare e analizzare parole, frasi e testi con facilità, grazie a un ricco insieme di metodi e funzioni.\n",
    "\n",
    "3. **Liste**: Una delle strutture di dati più versatili, le liste permettono di organizzare dati in sequenze ordinate, modificabili e iterabili. Esploreremo le varie operazioni che possiamo eseguire sulle liste per manipolare e accedere ai loro elementi.\n",
    "\n",
    "4. **Tuple**: Simili alle liste ma immutabili, le tuple offrono una stabilità che può essere preziosa in determinati contesti. Vedremo come utilizzare le tuple per rappresentare dati che non devono essere modificati dopo la creazione.\n",
    "\n",
    "5. **Dizionari**: Le tue informazioni meritano di essere organizzate in modo intelligente, e i dizionari sono qui per questo. Con le chiavi e i valori, i dizionari forniscono un modo potente per memorizzare e recuperare dati in base a relazioni chiave-valore.\n",
    "\n",
    "6. **Booleani**: Infine, esploreremo il mondo binario dei booleani, che ci consentiranno di prendere decisioni nei nostri programmi in base a condizioni vere o false.\n"
   ]
  },
  {
   "cell_type": "markdown",
   "id": "fdba96e0",
   "metadata": {},
   "source": [
    "# Esplorando i Numeri in Python: Integers e Floats\n",
    "\n",
    "I numeri sono le fondamenta della matematica e, di conseguenza, della programmazione. In Python, ci sono due tipi principali di numeri: gli interi (integers) e i numeri decimali (floats). Ogni tipo ha le proprie caratteristiche e utilità uniche, offrendo una vasta gamma di possibilità per la manipolazione dei dati quantitativi.\n",
    "\n",
    "1. **Integers (Interi)**: Gli interi sono numeri interi senza parte decimale. Possono essere positivi, negativi o nulli e vengono utilizzati per rappresentare quantità intere senza frazioni. Gli interi in Python possono essere utilizzati per eseguire operazioni aritmetiche di base come l'addizione, la sottrazione, la moltiplicazione e la divisione intera.\n",
    "\n",
    "2. **Floats (Numeri Decimali)**: I numeri decimali, o float, sono numeri con parte decimale. Essi consentono la rappresentazione di numeri razionali, inclusi numeri razionali approssimati come pi greco (π) o la radice quadrata di 2 (√2). I float in Python sono utilizzati per operazioni che coinvolgono la precisione decimale, come operazioni finanziarie, calcoli scientifici e grafici.\n",
    "\n",
    "Indipendentemente dal tipo, Python offre una serie di funzionalità potenti per lavorare con numeri, consentendo di eseguire operazioni aritmetiche, manipolazioni matematiche avanzate e molto altro ancora. Esploriamo insieme il mondo dei numeri in Python e scopriamo come possono essere utilizzati per risolvere una vasta gamma di problemi di programmazione. \n"
   ]
  },
  {
   "cell_type": "markdown",
   "id": "cf8ae812",
   "metadata": {},
   "source": [
    "## Numeri Interi"
   ]
  },
  {
   "cell_type": "markdown",
   "id": "e15b3d7a",
   "metadata": {},
   "source": [
    "## Addizioni"
   ]
  },
  {
   "cell_type": "code",
   "execution_count": 1,
   "id": "29fbffb4",
   "metadata": {},
   "outputs": [
    {
     "name": "stdout",
     "output_type": "stream",
     "text": [
      "Addizione: 8\n"
     ]
    }
   ],
   "source": [
    "a = 5\n",
    "b = 3\n",
    "risultato = a + b\n",
    "print(\"Addizione:\", risultato)\n"
   ]
  },
  {
   "cell_type": "markdown",
   "id": "e51ae252",
   "metadata": {},
   "source": [
    "## Sottrazione"
   ]
  },
  {
   "cell_type": "code",
   "execution_count": 2,
   "id": "bf74624c",
   "metadata": {},
   "outputs": [
    {
     "name": "stdout",
     "output_type": "stream",
     "text": [
      "Sottrazione: 3\n"
     ]
    }
   ],
   "source": [
    "a = 10\n",
    "b = 7\n",
    "risultato = a - b\n",
    "print(\"Sottrazione:\", risultato)\n"
   ]
  },
  {
   "cell_type": "markdown",
   "id": "ecedddee",
   "metadata": {},
   "source": [
    "## Moltiplicazione"
   ]
  },
  {
   "cell_type": "code",
   "execution_count": 3,
   "id": "de6e4693",
   "metadata": {},
   "outputs": [
    {
     "name": "stdout",
     "output_type": "stream",
     "text": [
      "Moltiplicazione: 24\n"
     ]
    }
   ],
   "source": [
    "a = 4\n",
    "b = 6\n",
    "risultato = a * b\n",
    "print(\"Moltiplicazione:\", risultato)"
   ]
  },
  {
   "cell_type": "markdown",
   "id": "6d50ffc5",
   "metadata": {},
   "source": [
    "## Moltiplicazione multipla"
   ]
  },
  {
   "cell_type": "code",
   "execution_count": 14,
   "id": "f1b9a363",
   "metadata": {},
   "outputs": [
    {
     "name": "stdout",
     "output_type": "stream",
     "text": [
      "Moltiplicazione multipla: 24\n"
     ]
    }
   ],
   "source": [
    "a = 2\n",
    "b = 3\n",
    "c = 4\n",
    "risultato = a * b * c\n",
    "print(\"Moltiplicazione multipla:\", risultato)\n"
   ]
  },
  {
   "cell_type": "markdown",
   "id": "f1302fe1",
   "metadata": {},
   "source": [
    "## Divisione"
   ]
  },
  {
   "cell_type": "code",
   "execution_count": 4,
   "id": "a33411d6",
   "metadata": {},
   "outputs": [
    {
     "name": "stdout",
     "output_type": "stream",
     "text": [
      "Divisione: 5.0\n"
     ]
    }
   ],
   "source": [
    "a = 15\n",
    "b = 3\n",
    "risultato = a / b\n",
    "print(\"Divisione:\", risultato)\n"
   ]
  },
  {
   "cell_type": "markdown",
   "id": "21edbbe6",
   "metadata": {},
   "source": [
    "## Divisione e assegnamento del resto"
   ]
  },
  {
   "cell_type": "code",
   "execution_count": 5,
   "id": "1162ece2",
   "metadata": {},
   "outputs": [
    {
     "name": "stdout",
     "output_type": "stream",
     "text": [
      "Divisione: 2 Resto: 6\n"
     ]
    }
   ],
   "source": [
    "a = 20\n",
    "b = 7\n",
    "quoziente = a // b # Calcolo della divisione\n",
    "resto = a % b # Calcolo del resto\n",
    "print(\"Divisione:\", quoziente, \"Resto:\", resto)\n"
   ]
  },
  {
   "cell_type": "markdown",
   "id": "0e15b4be",
   "metadata": {},
   "source": [
    "## Calcolo della potenza di 2 numeri interi"
   ]
  },
  {
   "cell_type": "code",
   "execution_count": 12,
   "id": "fa95b996",
   "metadata": {},
   "outputs": [
    {
     "name": "stdout",
     "output_type": "stream",
     "text": [
      "Potenza di a elevato a b: 8\n"
     ]
    }
   ],
   "source": [
    "a = 2\n",
    "b = 3\n",
    "risultato = a ** b\n",
    "print(\"Potenza di a elevato a b:\", risultato)\n"
   ]
  },
  {
   "cell_type": "markdown",
   "id": "5577384f",
   "metadata": {},
   "source": [
    "## Trasformazione di un numero in formato esponenziale"
   ]
  },
  {
   "cell_type": "code",
   "execution_count": 8,
   "id": "a2d1fe61",
   "metadata": {},
   "outputs": [
    {
     "name": "stdout",
     "output_type": "stream",
     "text": [
      "Formato esponenziale di 1000 : 1.00e+03\n"
     ]
    }
   ],
   "source": [
    "# Definizione del numero da formattare in formato esponenziale\n",
    "numero = 1000\n",
    "\n",
    "# Utilizzo del metodo format per formattare il numero in notazione esponenziale\n",
    "# \"{:.2e}\" specifica il formato esponenziale con due cifre decimali\n",
    "formato_esponenziale = \"{:.2e}\".format(numero)\n",
    "\n",
    "# Stampiamo il risultato\n",
    "print(\"Formato esponenziale di\", numero, \":\", formato_esponenziale)\n"
   ]
  },
  {
   "cell_type": "markdown",
   "id": "208ea4b0",
   "metadata": {},
   "source": [
    "## Calcolo della radice quadrata"
   ]
  },
  {
   "cell_type": "code",
   "execution_count": 9,
   "id": "24370727",
   "metadata": {},
   "outputs": [
    {
     "name": "stdout",
     "output_type": "stream",
     "text": [
      "Radice quadrata di 25 : 5.0\n"
     ]
    }
   ],
   "source": [
    "import math\n",
    "numero = 25\n",
    "radice_quadrata = math.sqrt(numero) # Calcolo della radice quadrata con la funzione .sqrt\n",
    "print(\"Radice quadrata di\", numero, \":\", radice_quadrata) # Stampa del risultato\n"
   ]
  },
  {
   "cell_type": "markdown",
   "id": "0689af64",
   "metadata": {},
   "source": [
    "## Calcolo della Somma dei Numeri Dispari tra Due Numeri Interi"
   ]
  },
  {
   "cell_type": "code",
   "execution_count": 15,
   "id": "abb954ad",
   "metadata": {},
   "outputs": [
    {
     "name": "stdout",
     "output_type": "stream",
     "text": [
      "Inserisci il primo numero intero: 5\n",
      "Inserisci il secondo numero intero: 9\n",
      "La somma dei numeri dispari compresi tra 5 e 9 è: 21\n"
     ]
    }
   ],
   "source": [
    "# Input dei due numeri interi dall'utente\n",
    "primo_numero = int(input(\"Inserisci il primo numero intero: \"))\n",
    "secondo_numero = int(input(\"Inserisci il secondo numero intero: \"))\n",
    "\n",
    "# Inizializzazione della somma\n",
    "somma_dispari = 0\n",
    "\n",
    "# Ciclo per iterare attraverso i numeri compresi tra i due numeri inseriti\n",
    "for numero in range(primo_numero, secondo_numero + 1):\n",
    "    # Verifica se il numero è dispari\n",
    "    if numero % 2 != 0:\n",
    "        # Aggiunta del numero dispari alla somma\n",
    "        somma_dispari += numero\n",
    "\n",
    "# Stampiamo la somma dei numeri dispari\n",
    "print(\"La somma dei numeri dispari compresi tra\", primo_numero, \"e\", secondo_numero, \"è:\", somma_dispari)\n"
   ]
  },
  {
   "cell_type": "markdown",
   "id": "5d351476",
   "metadata": {},
   "source": [
    "## Numeri Float"
   ]
  },
  {
   "cell_type": "markdown",
   "id": "6e78c804",
   "metadata": {},
   "source": [
    "## Somma di Numeri Decimali"
   ]
  },
  {
   "cell_type": "code",
   "execution_count": 18,
   "id": "c8283415",
   "metadata": {},
   "outputs": [
    {
     "name": "stdout",
     "output_type": "stream",
     "text": [
      "La somma è: 5.85\n"
     ]
    }
   ],
   "source": [
    "# Definiamo due numeri decimali\n",
    "numero1 = 3.14\n",
    "numero2 = 2.71\n",
    "\n",
    "# Eseguiamo la somma\n",
    "somma = numero1 + numero2\n",
    "\n",
    "# Stampiamo il risultato\n",
    "print(\"La somma è:\", somma)\n"
   ]
  },
  {
   "cell_type": "markdown",
   "id": "c62a0a3d",
   "metadata": {},
   "source": [
    "## Differenza tra Numeri Decimali"
   ]
  },
  {
   "cell_type": "code",
   "execution_count": 19,
   "id": "b5f15c8d",
   "metadata": {},
   "outputs": [
    {
     "name": "stdout",
     "output_type": "stream",
     "text": [
      "La differenza è: 3.3\n"
     ]
    }
   ],
   "source": [
    "# Definiamo due numeri decimali\n",
    "numero1 = 10.5\n",
    "numero2 = 7.2\n",
    "\n",
    "# Eseguiamo la differenza\n",
    "differenza = numero1 - numero2\n",
    "\n",
    "# Stampiamo il risultato\n",
    "print(\"La differenza è:\", differenza)\n"
   ]
  },
  {
   "cell_type": "markdown",
   "id": "6c2a4c37",
   "metadata": {},
   "source": [
    "## Moltiplicazione di Numeri Decimali"
   ]
  },
  {
   "cell_type": "code",
   "execution_count": 20,
   "id": "6296d10a",
   "metadata": {},
   "outputs": [
    {
     "name": "stdout",
     "output_type": "stream",
     "text": [
      "Il prodotto è: 10.0\n"
     ]
    }
   ],
   "source": [
    "# Definiamo due numeri decimali\n",
    "numero1 = 2.5\n",
    "numero2 = 4.0\n",
    "\n",
    "# Eseguiamo la moltiplicazione\n",
    "prodotto = numero1 * numero2\n",
    "\n",
    "# Stampiamo il risultato\n",
    "print(\"Il prodotto è:\", prodotto)\n"
   ]
  },
  {
   "cell_type": "markdown",
   "id": "8ad8e57e",
   "metadata": {},
   "source": [
    "## Calcolo della Radice Quadrata di un Numero Decimale"
   ]
  },
  {
   "cell_type": "code",
   "execution_count": 22,
   "id": "f017a85e",
   "metadata": {},
   "outputs": [
    {
     "name": "stdout",
     "output_type": "stream",
     "text": [
      "La radice quadrata di 16.0 è: 4.0\n"
     ]
    }
   ],
   "source": [
    "# Definiamo un numero decimale\n",
    "numero = 16.0\n",
    "\n",
    "# Calcoliamo la radice quadrata del numero\n",
    "radice_quadrata = math.sqrt(numero)\n",
    "\n",
    "# Stampiamo il risultato\n",
    "print(\"La radice quadrata di\", numero, \"è:\", radice_quadrata)\n"
   ]
  },
  {
   "cell_type": "markdown",
   "id": "c1289e25",
   "metadata": {},
   "source": [
    "## Controllo di Numeri Positivi o Negativi"
   ]
  },
  {
   "cell_type": "code",
   "execution_count": 23,
   "id": "0fd232ff",
   "metadata": {},
   "outputs": [
    {
     "name": "stdout",
     "output_type": "stream",
     "text": [
      "-4.2 è un numero negativo.\n"
     ]
    }
   ],
   "source": [
    "# Definiamo un numero decimale\n",
    "numero = -4.2\n",
    "\n",
    "# Verifichiamo se il numero è positivo o negativo\n",
    "if numero > 0:\n",
    "    print(numero, \"è un numero positivo.\")\n",
    "elif numero < 0:\n",
    "    print(numero, \"è un numero negativo.\")\n",
    "else:\n",
    "    print(numero, \"è zero.\")\n"
   ]
  },
  {
   "cell_type": "markdown",
   "id": "b517076c",
   "metadata": {},
   "source": [
    "## Controllo se un numero è intero o float"
   ]
  },
  {
   "cell_type": "code",
   "execution_count": 24,
   "id": "cc4e0a7d",
   "metadata": {},
   "outputs": [
    {
     "name": "stdout",
     "output_type": "stream",
     "text": [
      "Il tipo di 5.7 è: <class 'float'>\n"
     ]
    }
   ],
   "source": [
    "# Definiamo un numero decimale\n",
    "numero = 5.7\n",
    "\n",
    "# Controlliamo il tipo del numero\n",
    "tipo_numero = type(numero)\n",
    "\n",
    "# Stampiamo il risultato\n",
    "print(\"Il tipo di\", numero, \"è:\", tipo_numero)"
   ]
  },
  {
   "cell_type": "markdown",
   "id": "0da13932",
   "metadata": {},
   "source": [
    "## Arrotondamento a un numero specifico di decimali"
   ]
  },
  {
   "cell_type": "code",
   "execution_count": 17,
   "id": "8fd752a3",
   "metadata": {},
   "outputs": [
    {
     "name": "stdout",
     "output_type": "stream",
     "text": [
      "Arrotondamento a 2 decimali: 3.14\n"
     ]
    }
   ],
   "source": [
    "import math\n",
    "numero = 3.14159\n",
    "decimali = 2\n",
    "arrotondato = round(numero, decimali)\n",
    "print(\"Arrotondamento a\", decimali, \"decimali:\", arrotondato)\n"
   ]
  },
  {
   "cell_type": "markdown",
   "id": "75e8fb07",
   "metadata": {},
   "source": [
    "## Prezzo di un prodotto scontato"
   ]
  },
  {
   "cell_type": "code",
   "execution_count": 16,
   "id": "20c069b1",
   "metadata": {},
   "outputs": [
    {
     "name": "stdout",
     "output_type": "stream",
     "text": [
      "Inserisci il prezzo originale del prodotto: 45\n",
      "Inserisci la percentuale di sconto: 10\n",
      "Il prezzo scontato è: 40.5\n"
     ]
    }
   ],
   "source": [
    "# Input del prezzo originale e della percentuale di sconto dall'utente\n",
    "prezzo_originale = float(input(\"Inserisci il prezzo originale del prodotto: \"))\n",
    "percentuale_sconto = float(input(\"Inserisci la percentuale di sconto: \"))\n",
    "\n",
    "# Calcolo del prezzo scontato\n",
    "prezzo_scontato = prezzo_originale * (1 - percentuale_sconto / 100)\n",
    "\n",
    "# Stampiamo il prezzo scontato\n",
    "print(\"Il prezzo scontato è:\", prezzo_scontato)\n"
   ]
  },
  {
   "cell_type": "markdown",
   "id": "bac16190",
   "metadata": {},
   "source": [
    "# Esplorando le Stringhe in Python\n",
    "\n",
    "Le stringhe sono una sequenza di caratteri, come lettere, numeri, spazi e simboli, racchiusi tra virgolette singole (' '), virgolette doppie (\" \"), o triplici (''' ''' o \"\"\" \"\"\"). In Python, le stringhe sono immutabili, il che significa che non possono essere modificate dopo essere state create. Tuttavia, è possibile creare nuove stringhe combinando o manipolando quelle esistenti.\n",
    "\n",
    "Le stringhe sono ampiamente utilizzate in Python per rappresentare testo e dati di tipo testuale. Possono essere utilizzate per rappresentare nomi, indirizzi, testi di documenti, dati provenienti da input utente e molto altro ancora."
   ]
  },
  {
   "cell_type": "markdown",
   "id": "027e6ac2",
   "metadata": {},
   "source": [
    "## Stringhe"
   ]
  },
  {
   "cell_type": "markdown",
   "id": "707be3ba",
   "metadata": {},
   "source": [
    "## Contare quante volte appare una parola nella frase"
   ]
  },
  {
   "cell_type": "code",
   "execution_count": 1,
   "id": "9cf7a128",
   "metadata": {},
   "outputs": [
    {
     "name": "stdout",
     "output_type": "stream",
     "text": [
      "Il numero di volte che Ciao compare nella stringa è: 2\n"
     ]
    }
   ],
   "source": [
    "stringa = \"Ciao, come stai? Ciao!\"\n",
    "sottostringa = \"Ciao\"\n",
    "conteggio = stringa.count(sottostringa) # .count conta le volte che appare la parola che abiamo scelto\n",
    "print(\"Il numero di volte che\", sottostringa, \"compare nella stringa è:\", conteggio) # stampa il risultato\n"
   ]
  },
  {
   "cell_type": "markdown",
   "id": "a4ac566f",
   "metadata": {},
   "source": [
    "## Invertire una stringa"
   ]
  },
  {
   "cell_type": "code",
   "execution_count": 2,
   "id": "dd9c2901",
   "metadata": {},
   "outputs": [
    {
     "name": "stdout",
     "output_type": "stream",
     "text": [
      "Stringa invertita: oaiC\n"
     ]
    }
   ],
   "source": [
    "stringa = \"Ciao\"\n",
    "stringa_invertita = stringa[::-1] # Utilizza l'indicizzazione inversa per invertire la stringa\n",
    "print(\"Stringa invertita:\", stringa_invertita)\n"
   ]
  },
  {
   "cell_type": "markdown",
   "id": "31c02612",
   "metadata": {},
   "source": [
    "## Rimuovere spazi bianchi da inizio e fine di una stringa"
   ]
  },
  {
   "cell_type": "code",
   "execution_count": 5,
   "id": "f0002eb1",
   "metadata": {},
   "outputs": [
    {
     "name": "stdout",
     "output_type": "stream",
     "text": [
      "Stringa senza spazi bianchi: Ciao come stai\n"
     ]
    }
   ],
   "source": [
    "stringa = \"   Ciao come stai   \"\n",
    "stringa_pulita = stringa.strip() # .stript comando che rimuove gli sapzi alla fine e all'inizio\n",
    "print(\"Stringa senza spazi bianchi:\", stringa_pulita)\n"
   ]
  },
  {
   "cell_type": "markdown",
   "id": "95e6a05c",
   "metadata": {},
   "source": [
    "## Trovare la posizione di una lettera nella stringa tramite il suo indice"
   ]
  },
  {
   "cell_type": "code",
   "execution_count": 9,
   "id": "30b3d90d",
   "metadata": {},
   "outputs": [
    {
     "name": "stdout",
     "output_type": "stream",
     "text": [
      "Posizione di 'e': 9\n"
     ]
    }
   ],
   "source": [
    "stringa = \"Ciao, come stai?\"\n",
    "posizione = stringa.find(\"e\")  # Trova la posizione di \"e\" nella stringa\n",
    "print(\"Posizione di 'e':\", posizione)\n"
   ]
  },
  {
   "cell_type": "markdown",
   "id": "615ee3d2",
   "metadata": {},
   "source": [
    "## Mettere in maiuscolo la prima lettera di ogni parola presente"
   ]
  },
  {
   "cell_type": "code",
   "execution_count": 10,
   "id": "3a1f1882",
   "metadata": {},
   "outputs": [
    {
     "name": "stdout",
     "output_type": "stream",
     "text": [
      "Stringa capitalizzata: Ciao Come Stai?\n"
     ]
    }
   ],
   "source": [
    "stringa = \"ciao come stai?\"\n",
    "stringa_capitalizzata = stringa.title()  # Mette in maiuscola tramite il comando .title la prima lettera di ogni parola\n",
    "print(\"Stringa capitalizzata:\", stringa_capitalizzata)\n"
   ]
  },
  {
   "cell_type": "markdown",
   "id": "e25e9b38",
   "metadata": {},
   "source": [
    "## Convertire una stringa in maiuscolo o minuscolo"
   ]
  },
  {
   "cell_type": "code",
   "execution_count": 11,
   "id": "b9c1f2b9",
   "metadata": {},
   "outputs": [
    {
     "name": "stdout",
     "output_type": "stream",
     "text": [
      "Stringa in maiuscolo: CIAO RAGAZZI\n",
      "Stringa in minuscolo: ciao ragazzi\n"
     ]
    }
   ],
   "source": [
    "stringa = \"Ciao Ragazzi\"\n",
    "maiuscolo = stringa.upper()  # Converti la stringa in maiuscolo\n",
    "minuscolo = stringa.lower()  # Converti la stringa in minuscolo\n",
    "print(\"Stringa in maiuscolo:\", maiuscolo)\n",
    "print(\"Stringa in minuscolo:\", minuscolo)\n"
   ]
  },
  {
   "cell_type": "markdown",
   "id": "19206869",
   "metadata": {},
   "source": [
    "## Conteggio vocali presenti in una stinga"
   ]
  },
  {
   "cell_type": "code",
   "execution_count": 12,
   "id": "bae01431",
   "metadata": {},
   "outputs": [
    {
     "name": "stdout",
     "output_type": "stream",
     "text": [
      "7\n"
     ]
    }
   ],
   "source": [
    "def conta_vocali(stringa):\n",
    "    vocali = \"aeiouAEIOU\"  # Definiamo una stringa contenente tutte le vocali minuscole e maiuscole\n",
    "    conteggio = 0  # Inizializziamo il conteggio delle vocali a zero\n",
    "    for carattere in stringa:  # ciclo for per ogni carattere della stinga\n",
    "        if carattere in vocali:  # Se il carattere è presente nella stringa delle vocali\n",
    "            conteggio += 1  # il valore delle vocali aumenta di 1\n",
    "    return conteggio\n",
    "\n",
    "print(conta_vocali(\"Ciao, come stai?\"))\n"
   ]
  },
  {
   "cell_type": "markdown",
   "id": "992f2dd7",
   "metadata": {},
   "source": [
    "## Conteggio parole presenti nella stringa"
   ]
  },
  {
   "cell_type": "code",
   "execution_count": 15,
   "id": "115778ae",
   "metadata": {},
   "outputs": [
    {
     "name": "stdout",
     "output_type": "stream",
     "text": [
      "Il numero di parole nella stringa è: 3\n"
     ]
    }
   ],
   "source": [
    "\n",
    "stringa = \"Ciao come stai?\"\n",
    "conteggio_parole = len(stringa.split()) # .len è il comando che ci dice le parole presenti nella stringa\n",
    "\n",
    "# Stampa del risultato\n",
    "print(\"Il numero di parole nella stringa è:\", conteggio_parole)\n"
   ]
  },
  {
   "cell_type": "markdown",
   "id": "4971e476",
   "metadata": {},
   "source": [
    "## Crea un acronimo partendo dalla frase dell'utente"
   ]
  },
  {
   "cell_type": "code",
   "execution_count": 16,
   "id": "4eac2bed",
   "metadata": {},
   "outputs": [
    {
     "name": "stdout",
     "output_type": "stream",
     "text": [
      "Inserisci una frase: National Basketball Association\n",
      "Vuoi l'acronimo in maiuscolo o in minuscolo? (M/m per maiuscolo, S/s per minuscolo): s\n",
      "L'acronimo generato è: nba\n"
     ]
    }
   ],
   "source": [
    "def genera_acronimo(frase, maiuscolo):\n",
    "    parole = frase.split()  # Dividi la frase in parole\n",
    "    acronimo = ''.join(parola[0].upper() if maiuscolo else parola[0].lower() for parola in parole)  # Genera l'acronimo\n",
    "    return acronimo\n",
    "\n",
    "def main():\n",
    "    frase = input(\"Inserisci una frase: \")\n",
    "    scelta = input(\"Vuoi l'acronimo in maiuscolo o in minuscolo? (M/m per maiuscolo, S/s per minuscolo): \")\n",
    "    maiuscolo = True if scelta.lower() == 'm' else False\n",
    "    acronimo = genera_acronimo(frase, maiuscolo)\n",
    "    print(\"L'acronimo generato è:\", acronimo)\n",
    "\n",
    "if __name__ == \"__main__\":\n",
    "    main()\n"
   ]
  },
  {
   "cell_type": "markdown",
   "id": "0dce9c8c",
   "metadata": {},
   "source": [
    "# Introduzione alle Liste in Python\n",
    "\n",
    "Le liste sono una delle strutture dati più fondamentali in Python. Sono usate per memorizzare collezioni di oggetti, come numeri, stringhe o anche altre liste. Le liste in Python sono dinamiche, il che significa che possono crescere o diminuire di dimensione durante l'esecuzione del programma.\n",
    "\n",
    "## Creazione di una Lista\n",
    "\n",
    "Per creare una lista in Python, si utilizzano le parentesi quadre `[]` e si separano gli elementi con la virgola. Ecco un esempio di creazione di una lista:\n",
    "\n",
    "```python\n",
    "numeri = [1, 2, 3, 4, 5]\n",
    "frutta = [\"mela\", \"banana\", \"kiwi\", \"arancia\"]\n",
    "mista = [1, \"due\", 3.0, True]\n",
    "```\n",
    "\n",
    "Le liste possono contenere elementi di diversi tipi, come mostrato nell'esempio della lista `mista` sopra.\n",
    "\n",
    "## Utilizzi delle Liste\n",
    "\n",
    "Le liste sono utilizzate in Python per una vasta gamma di scopi, tra cui:\n",
    "\n",
    "1. **Memorizzazione di dati**: Le liste sono utilizzate per memorizzare collezioni ordinate di dati. Possono contenere numeri, stringhe, booleani e altri tipi di dati Python.\n",
    "\n",
    "2. **Iterazione e accesso ai dati**: Le liste permettono di accedere facilmente ai singoli elementi utilizzando gli indici. Ciò rende possibile iterare su tutti gli elementi della lista e manipolarli secondo necessità.\n",
    "\n",
    "3. **Modifiche dinamiche**: Poiché le liste sono dinamiche, è possibile aggiungere, rimuovere o modificare gli elementi al loro interno durante l'esecuzione del programma.\n",
    "\n",
    "4. **Implementazione di algoritmi**: Le liste forniscono una struttura dati flessibile che può essere utilizzata per implementare una vasta gamma di algoritmi, come algoritmi di ordinamento, ricerca e altro ancora."
   ]
  },
  {
   "cell_type": "markdown",
   "id": "d21123aa",
   "metadata": {},
   "source": [
    "## Accesso agli elementi di una lista tramite il proprio indice"
   ]
  },
  {
   "cell_type": "code",
   "execution_count": 20,
   "id": "7ca11737",
   "metadata": {},
   "outputs": [
    {
     "name": "stdout",
     "output_type": "stream",
     "text": [
      "mela\n",
      "kiwi\n"
     ]
    }
   ],
   "source": [
    "frutta = [\"mela\", \"banana\", \"kiwi\", \"arancia\"]\n",
    "print(frutta[0])  # Stampa il primo elemento della lista: mela\n",
    "print(frutta[2])  # Stampa il terzo elemento della lista: kiwi\n"
   ]
  },
  {
   "cell_type": "markdown",
   "id": "0fe23f69",
   "metadata": {},
   "source": [
    "## Modifica degli elementi di una lista dell'indice indicato"
   ]
  },
  {
   "cell_type": "code",
   "execution_count": 21,
   "id": "67baa400",
   "metadata": {},
   "outputs": [
    {
     "name": "stdout",
     "output_type": "stream",
     "text": [
      "[10, 2, 3, 4, 5]\n"
     ]
    }
   ],
   "source": [
    "numeri = [1, 2, 3, 4, 5]\n",
    "numeri[0] = 10\n",
    "print(numeri)  # Stampa: [10, 2, 3, 4, 5]\n"
   ]
  },
  {
   "cell_type": "markdown",
   "id": "84a26251",
   "metadata": {},
   "source": [
    "## Aggiunta di elementi a una lista"
   ]
  },
  {
   "cell_type": "code",
   "execution_count": 22,
   "id": "34e925b1",
   "metadata": {},
   "outputs": [
    {
     "name": "stdout",
     "output_type": "stream",
     "text": [
      "['mela', 'banana', 'kiwi', 'arancia', 'fragola']\n"
     ]
    }
   ],
   "source": [
    "frutta = [\"mela\", \"banana\", \"kiwi\", \"arancia\"]\n",
    "frutta.append(\"fragola\") # .append aggiunge un leemento alla lista\n",
    "print(frutta) "
   ]
  },
  {
   "cell_type": "markdown",
   "id": "3ff8ec7f",
   "metadata": {},
   "source": [
    "## Rimozione di elementi da una lista"
   ]
  },
  {
   "cell_type": "code",
   "execution_count": 23,
   "id": "c7bf5ab1",
   "metadata": {},
   "outputs": [
    {
     "name": "stdout",
     "output_type": "stream",
     "text": [
      "['mela', 'kiwi', 'arancia']\n"
     ]
    }
   ],
   "source": [
    "frutta = [\"mela\", \"banana\", \"kiwi\", \"arancia\"]\n",
    "frutta.remove(\"banana\")\n",
    "print(frutta)"
   ]
  },
  {
   "cell_type": "markdown",
   "id": "425dd4e2",
   "metadata": {},
   "source": [
    "## Ordinamento di una lista in modo crescente"
   ]
  },
  {
   "cell_type": "code",
   "execution_count": 24,
   "id": "0a271eb1",
   "metadata": {},
   "outputs": [
    {
     "name": "stdout",
     "output_type": "stream",
     "text": [
      "[1, 2, 3, 5, 8]\n"
     ]
    }
   ],
   "source": [
    "numeri = [5, 2, 8, 1, 3]\n",
    "numeri.sort() # .sort ordina gli elementi in modo crescente\n",
    "print(numeri) \n"
   ]
  },
  {
   "cell_type": "markdown",
   "id": "99a82b77",
   "metadata": {},
   "source": [
    "## Verifica della lunghezza di una lista con la funzione len"
   ]
  },
  {
   "cell_type": "code",
   "execution_count": 25,
   "id": "c07a6b93",
   "metadata": {},
   "outputs": [
    {
     "name": "stdout",
     "output_type": "stream",
     "text": [
      "5\n"
     ]
    }
   ],
   "source": [
    "numeri = [1, 2, 3, 4, 5]\n",
    "lunghezza = len(numeri)\n",
    "print(lunghezza)"
   ]
  },
  {
   "cell_type": "markdown",
   "id": "a730d0f5",
   "metadata": {},
   "source": [
    "## Rimozione dell'ultimo elemento dalla lista con il metodo pop"
   ]
  },
  {
   "cell_type": "code",
   "execution_count": 27,
   "id": "20184f0b",
   "metadata": {},
   "outputs": [
    {
     "name": "stdout",
     "output_type": "stream",
     "text": [
      "5\n",
      "[1, 2, 3, 4]\n"
     ]
    }
   ],
   "source": [
    "numeri = [1, 2, 3, 4, 5]\n",
    "ultimo_elemento = numeri.pop() # elimiazione dell'ultimo elemento presente\n",
    "print(ultimo_elemento)\n",
    "print(numeri)\n"
   ]
  },
  {
   "cell_type": "markdown",
   "id": "06260bf5",
   "metadata": {},
   "source": [
    "## Verifica se una lista è vuota"
   ]
  },
  {
   "cell_type": "code",
   "execution_count": 34,
   "id": "cbd710b4",
   "metadata": {},
   "outputs": [
    {
     "name": "stdout",
     "output_type": "stream",
     "text": [
      "La lista non è vuota.\n"
     ]
    }
   ],
   "source": [
    "lista_vuota = [5, 4]\n",
    "if not lista_vuota:\n",
    "    print(\"La lista è vuota.\")\n",
    "else:\n",
    "    print(\"La lista non è vuota.\")\n"
   ]
  },
  {
   "cell_type": "markdown",
   "id": "f1141e53",
   "metadata": {},
   "source": [
    "## Divisione lista con parola che iniziano con la Maiuscola e con la minuscola"
   ]
  },
  {
   "cell_type": "code",
   "execution_count": 40,
   "id": "af498e3d",
   "metadata": {},
   "outputs": [
    {
     "name": "stdout",
     "output_type": "stream",
     "text": [
      "Parole che iniziano con una lettera maiuscola: ['Ciao', 'Mondo', 'Lista', 'Programmazione']\n",
      "Parole che iniziano con una lettera minuscola: ['python', 'elemento']\n"
     ]
    }
   ],
   "source": [
    "def divide_parole(lista_parole):\n",
    "    parole_maiuscole = []\n",
    "    parole_minuscole = []\n",
    "    for parola in lista_parole:\n",
    "        if parola[0].isupper():\n",
    "            parole_maiuscole.append(parola)\n",
    "        else:\n",
    "            parole_minuscole.append(parola)\n",
    "    return parole_maiuscole, parole_minuscole\n",
    "\n",
    "def main():\n",
    "    # Lista di parole\n",
    "    parole = [\"Ciao\", \"Mondo\", \"python\", \"Lista\", \"elemento\", \"Programmazione\"]\n",
    "\n",
    "    # Divisone della lista di parole in parole maiuscole e parole minuscole\n",
    "    parole_maiuscole, parole_minuscole = divide_parole(parole)\n",
    "\n",
    "    # Stampare le due liste separate\n",
    "    print(\"Parole che iniziano con una lettera maiuscola:\", parole_maiuscole)\n",
    "    print(\"Parole che iniziano con una lettera minuscola:\", parole_minuscole)\n",
    "\n",
    "if __name__ == \"__main__\":\n",
    "    main()\n"
   ]
  },
  {
   "cell_type": "markdown",
   "id": "1063fdc0",
   "metadata": {},
   "source": [
    "# Introduzione alle Tuple in Python\n",
    "\n",
    "Le tuple sono una struttura dati fondamentale in Python utilizzata per memorizzare collezioni ordinate e immutabili di elementi. A differenza delle liste, le tuple sono immutabili, il che significa che una volta create non è possibile modificarne il contenuto. Le tuple vengono definite utilizzando parentesi tonde () e separando gli elementi con la virgola.\n",
    "\n",
    "## A cosa servono le tuple?\n",
    "\n",
    "Le tuple sono utilizzate per raggruppare più elementi in un'unica entità, mantenendo l'ordine e l'immobilità dei dati. Sono particolarmente utili quando si desidera creare collezioni di dati che non devono essere modificati dopo la loro creazione, ad esempio coordinate geografiche, valori costanti o configurazioni.\n",
    "\n",
    "## Perché usiamo le tuple?\n",
    "\n",
    "1. **Immutabilità:** Le tuple offrono una garanzia che i dati non saranno modificati accidentalmente dopo la loro creazione, fornendo una maggiore sicurezza nel codice.\n",
    "\n",
    "2. **Efficienza:** Le tuple sono più efficienti delle liste in termini di utilizzo della memoria e velocità di accesso ai dati, specialmente quando si tratta di raccolte di dimensioni fisse.\n",
    "\n",
    "3. **Assegnazione multipla:** Le tuple consentono l'assegnazione multipla, il che significa che è possibile assegnare più variabili contemporaneamente da una tupla.\n",
    "\n",
    "## Utilità delle tuple\n",
    "\n",
    "Le tuple sono utili in molte situazioni, tra cui:\n",
    "\n",
    "- Ritorno di valori multipli da una funzione.\n",
    "- Utilizzo di chiavi in un dizionario.\n",
    "- Impostazione di parametri in una funzione.\n",
    "- Impostazione di valori costanti.\n",
    "\n",
    "In sintesi, le tuple sono una struttura dati versatile e potente in Python, che offre un modo semplice e efficiente per memorizzare e manipolare collezioni ordinate e immutabili di elementi.\n"
   ]
  },
  {
   "cell_type": "markdown",
   "id": "dbcd3651",
   "metadata": {},
   "source": [
    "## Creazione di una tupla"
   ]
  },
  {
   "cell_type": "code",
   "execution_count": 42,
   "id": "a65a4a73",
   "metadata": {},
   "outputs": [
    {
     "data": {
      "text/plain": [
       "(1, 2, 3, 4, 5)"
      ]
     },
     "execution_count": 42,
     "metadata": {},
     "output_type": "execute_result"
    }
   ],
   "source": [
    "tupla = (1, 2, 3, 4, 5)\n",
    "tupla"
   ]
  },
  {
   "cell_type": "markdown",
   "id": "416ac1ef",
   "metadata": {},
   "source": [
    "## Assegnazione multipla utilizzando tuple"
   ]
  },
  {
   "cell_type": "code",
   "execution_count": 1,
   "id": "aaaf3e3b",
   "metadata": {},
   "outputs": [
    {
     "name": "stdout",
     "output_type": "stream",
     "text": [
      "La coordinata x è: 10\n",
      "La coordinata y è: 20\n"
     ]
    }
   ],
   "source": [
    "coordinate = (10, 20)\n",
    "x, y = coordinate\n",
    "print(\"La coordinata x è:\", x)\n",
    "print(\"La coordinata y è:\", y)\n"
   ]
  },
  {
   "cell_type": "markdown",
   "id": "364518ed-a194-4fe8-ade9-7cf54cff53e9",
   "metadata": {},
   "source": [
    "## Conta quante volte un elemento appare nella tupla"
   ]
  },
  {
   "cell_type": "code",
   "execution_count": 2,
   "id": "ff5ec881-4968-4105-981e-d23f13e87cd6",
   "metadata": {},
   "outputs": [
    {
     "name": "stdout",
     "output_type": "stream",
     "text": [
      "L'elemento 3 appare 3 volte nella tupla\n"
     ]
    }
   ],
   "source": [
    "tupla = (1, 2, 2, 3, 3, 3, 4, 4, 4, 4)\n",
    "elemento = 3\n",
    "conteggio = tupla.count(elemento)\n",
    "print(\"L'elemento\", elemento, \"appare\", conteggio, \"volte nella tupla\")\n"
   ]
  },
  {
   "cell_type": "markdown",
   "id": "35612f3f-1ff9-4d75-8692-9b9d1fede473",
   "metadata": {},
   "source": [
    "## Confronto tra tuple"
   ]
  },
  {
   "cell_type": "code",
   "execution_count": 4,
   "id": "587f2603-4f26-4b94-84b9-655b1ac9dc79",
   "metadata": {},
   "outputs": [
    {
     "name": "stdout",
     "output_type": "stream",
     "text": [
      "La tupla1 è minore di tupla2.\n"
     ]
    }
   ],
   "source": [
    "tupla1 = (1, 2)\n",
    "tupla2 = (1, 2, 4)\n",
    "if tupla1 < tupla2:\n",
    "    print(\"La tupla1 è minore di tupla2.\")\n",
    "else:\n",
    "    print(\"La tupla1 è maggiore o uguale a tupla2.\")\n"
   ]
  },
  {
   "cell_type": "markdown",
   "id": "05e2ac7c-fea4-493b-856d-23e1b439cf9e",
   "metadata": {},
   "source": [
    "## Conta quante volte un elemento appare nella tupla"
   ]
  },
  {
   "cell_type": "code",
   "execution_count": 5,
   "id": "2b1f5bbd-7fdf-4eac-8aa3-dc556b7cd1bd",
   "metadata": {},
   "outputs": [
    {
     "name": "stdout",
     "output_type": "stream",
     "text": [
      "L'elemento 3 appare 3 volte nella tupla\n"
     ]
    }
   ],
   "source": [
    "tupla = (1, 2, 2, 3, 3, 3, 4, 4, 4, 4)\n",
    "elemento = 3\n",
    "conteggio = tupla.count(elemento)\n",
    "print(\"L'elemento\", elemento, \"appare\", conteggio, \"volte nella tupla\")\n"
   ]
  },
  {
   "cell_type": "markdown",
   "id": "3567e44b-1fe1-45c7-8068-57e759de45a7",
   "metadata": {},
   "source": [
    "## Ricerca di un elemento nella tupla e ottenimento dell'indice"
   ]
  },
  {
   "cell_type": "code",
   "execution_count": 7,
   "id": "85b65902-ada7-492e-bd10-8725bc6c9b45",
   "metadata": {},
   "outputs": [
    {
     "name": "stdout",
     "output_type": "stream",
     "text": [
      "L'elemento 30 si trova all'indice 3\n"
     ]
    }
   ],
   "source": [
    "tupla = (10, 20, 30, 40, 50)\n",
    "elemento = 30\n",
    "indice = tupla.index(elemento)+1\n",
    "print(\"L'elemento\", elemento, \"si trova all'indice\", indice)\n"
   ]
  },
  {
   "cell_type": "markdown",
   "id": "d2c127ee-74c2-4ae3-92ba-58be0e7b8403",
   "metadata": {},
   "source": [
    "## Utilizzo di tuple come chiavi in un dizionario"
   ]
  },
  {
   "cell_type": "code",
   "execution_count": 9,
   "id": "44561d5f-b060-4722-8900-c5952a6ae79e",
   "metadata": {},
   "outputs": [
    {
     "name": "stdout",
     "output_type": "stream",
     "text": [
      "valore1\n"
     ]
    }
   ],
   "source": [
    "dizionario = {(1, 2): \"valore1\", (3, 4): \"valore2\"}\n",
    "print(dizionario[(1, 2)])\n"
   ]
  },
  {
   "cell_type": "markdown",
   "id": "01f2cd4d-ea60-4ad7-8846-07595801e15e",
   "metadata": {},
   "source": [
    "## Verifica se una tupla è vuota"
   ]
  },
  {
   "cell_type": "code",
   "execution_count": 15,
   "id": "6ab9a9df-9ca5-493a-b221-6a66c4ff4cd2",
   "metadata": {},
   "outputs": [
    {
     "name": "stdout",
     "output_type": "stream",
     "text": [
      "la tupla non è vuota\n"
     ]
    }
   ],
   "source": [
    "tupla_vuota = (3)\n",
    "if not tupla_vuota:\n",
    "    print(\"La tupla è vuota.\")\n",
    "else:\n",
    "    print(\"la tupla non è vuota\")\n"
   ]
  },
  {
   "cell_type": "code",
   "execution_count": 19,
   "id": "5792f6a2-317c-43a3-bbfa-7b2c7459c3c0",
   "metadata": {},
   "outputs": [
    {
     "name": "stdin",
     "output_type": "stream",
     "text": [
      "Inserisci il nome del prodotto da acquistare (o premi invio per terminare):  Pane\n",
      "Inserisci la quantità da acquistare:  3\n",
      "Inserisci il nome del prodotto da acquistare (o premi invio per terminare):  Pasta\n",
      "Inserisci la quantità da acquistare:  5\n",
      "Inserisci il nome del prodotto da acquistare (o premi invio per terminare):  Zucchero\n",
      "Inserisci la quantità da acquistare:  2\n",
      "Inserisci il nome del prodotto da acquistare (o premi invio per terminare):  olio\n",
      "Inserisci la quantità da acquistare:  1\n",
      "Inserisci il nome del prodotto da acquistare (o premi invio per terminare):  \n"
     ]
    },
    {
     "name": "stdout",
     "output_type": "stream",
     "text": [
      "Lista della spesa:\n",
      "- Pane: 3\n",
      "- Pasta: 5\n",
      "- Zucchero: 2\n",
      "- olio: 1\n"
     ]
    },
    {
     "name": "stdin",
     "output_type": "stream",
     "text": [
      "Hai acquistato un prodotto della lista? Inserisci il nome del prodotto (o premi invio per terminare):  olio\n",
      "Hai acquistato un prodotto della lista? Inserisci il nome del prodotto (o premi invio per terminare):  \n"
     ]
    },
    {
     "name": "stdout",
     "output_type": "stream",
     "text": [
      "Lista della spesa:\n",
      "- Pane: 3\n",
      "- Pasta: 5\n",
      "- Zucchero: 2\n",
      "Grazie per aver utilizzato il programma!\n"
     ]
    }
   ],
   "source": [
    "def aggiungi_prodotto(lista_spesa, prodotto, quantita): # definizione delle funzioni che ci serviranno dopo\n",
    "    lista_spesa.append((prodotto, quantita))\n",
    "    return lista_spesa\n",
    "\n",
    "def rimuovi_prodotto(lista_spesa, prodotto):\n",
    "    lista_spesa = [elemento for elemento in lista_spesa if elemento[0] != prodotto]\n",
    "    return lista_spesa\n",
    "\n",
    "def visualizza_lista(lista_spesa):\n",
    "    print(\"Lista della spesa:\")\n",
    "    for prodotto, quantita in lista_spesa:\n",
    "        print(f\"- {prodotto}: {quantita}\")\n",
    "lista_spesa = [] # creazione della lista vuota\n",
    "while True:\n",
    "    prodotto = input(\"Inserisci il nome del prodotto da acquistare (o premi invio per terminare): \") # cheiede all'utente se vouole inserire dei prodoti\n",
    "    if not prodotto:\n",
    "        break\n",
    "    quantita = int(input(\"Inserisci la quantità da acquistare: \")) # chiede la quantità del prodotto inserito\n",
    "    lista_spesa = aggiungi_prodotto(lista_spesa, prodotto, quantita)\n",
    "\n",
    "# Visualizzazione della lista della spesa\n",
    "visualizza_lista(lista_spesa)\n",
    "while True:\n",
    "    prodotto_acquistato = input(\"Hai acquistato un prodotto della lista? Inserisci il nome del prodotto (o premi invio per terminare): \") # controllo se il prodotto è stato acquistato in caso lo toglierà dalla lista\n",
    "    if not prodotto_acquistato:\n",
    "        break\n",
    "    lista_spesa = rimuovi_prodotto(lista_spesa, prodotto_acquistato)\n",
    "\n",
    "# Visualizzazione della lista della spesa aggiornata\n",
    "visualizza_lista(lista_spesa)\n",
    "\n",
    "# Messaggio di uscita\n",
    "print(\"Grazie per aver utilizzato il programma!\")\n"
   ]
  },
  {
   "cell_type": "markdown",
   "id": "5a3cc1e1-8f37-4474-ae2d-3fa9cb49d968",
   "metadata": {},
   "source": [
    "# Introduzione ai Dizionari in Python\n",
    "\n",
    "I dizionari sono una struttura dati fondamentale in Python utilizzata per memorizzare collezioni di dati in cui ogni elemento è composto da una coppia chiave-valore. Le chiavi sono uniche all'interno del dizionario e vengono utilizzate per accedere ai relativi valori. I dizionari sono noti anche come mappe o hashmaps in altri linguaggi di programmazione.\n",
    "\n",
    "## Creazione di un Dizionario\n",
    "\n",
    "Per creare un dizionario in Python, si utilizzano le parentesi graffe `{}` e si specificano le coppie chiave-valore separate da virgole. Ecco un esempio di creazione di un dizionario:\n",
    "\n",
    "```python\n",
    "dizionario = {\"nome\": \"Mario\", \"eta\": 30, \"citta\": \"Roma\"}\n"
   ]
  },
  {
   "cell_type": "markdown",
   "id": "99319918-0680-40e9-b111-518ad20b5af3",
   "metadata": {},
   "source": [
    "## Aggiunta di elementi al dizionario"
   ]
  },
  {
   "cell_type": "code",
   "execution_count": 24,
   "id": "3cefcc38-0579-45d7-8a67-dcd12cd619b4",
   "metadata": {},
   "outputs": [
    {
     "data": {
      "text/plain": [
       "{'chiave1': 'valore1', 'chiave2': 'valore2'}"
      ]
     },
     "execution_count": 24,
     "metadata": {},
     "output_type": "execute_result"
    }
   ],
   "source": [
    "dizionario = {}\n",
    "dizionario['chiave1'] = 'valore1'\n",
    "dizionario['chiave2'] = 'valore2'\n",
    "dizionario"
   ]
  },
  {
   "cell_type": "markdown",
   "id": "6ff24c29-5a0c-42fa-a8fa-3e0b685e250a",
   "metadata": {},
   "source": [
    "## Controllo dell'esistenza di una chiave nel dizionario"
   ]
  },
  {
   "cell_type": "code",
   "execution_count": 25,
   "id": "59298c84-4100-432e-b6fa-46037d97dd2d",
   "metadata": {},
   "outputs": [
    {
     "name": "stdout",
     "output_type": "stream",
     "text": [
      "La chiave non esiste nel dizionario.\n"
     ]
    }
   ],
   "source": [
    "if 'chiave' in dizionario:\n",
    "    print(\"La chiave esiste nel dizionario.\")\n",
    "else:\n",
    "    print(\"La chiave non esiste nel dizionario.\")\n"
   ]
  },
  {
   "cell_type": "markdown",
   "id": "e9d2e7d9-0e13-4c1e-a881-7ae80041e0ad",
   "metadata": {},
   "source": [
    "## Stampa delle chiavi del dizionario"
   ]
  },
  {
   "cell_type": "code",
   "execution_count": 26,
   "id": "e1e1739c-6e35-42e3-b319-d9c10548f2f5",
   "metadata": {},
   "outputs": [
    {
     "name": "stdout",
     "output_type": "stream",
     "text": [
      "dict_keys(['chiave1', 'chiave2'])\n"
     ]
    }
   ],
   "source": [
    "chiavi = dizionario.keys()\n",
    "print(chiavi)\n"
   ]
  },
  {
   "cell_type": "markdown",
   "id": "ae0065b0-6638-4796-a04d-a0c24684be3c",
   "metadata": {},
   "source": [
    "## Stampa dei valori del dizionario"
   ]
  },
  {
   "cell_type": "code",
   "execution_count": 27,
   "id": "e4a220af-092f-48fe-8762-74c13ec986bd",
   "metadata": {},
   "outputs": [
    {
     "name": "stdout",
     "output_type": "stream",
     "text": [
      "dict_values(['valore1', 'valore2'])\n"
     ]
    }
   ],
   "source": [
    "valori = dizionario.values()\n",
    "print(valori)\n"
   ]
  },
  {
   "cell_type": "markdown",
   "id": "8eb347c6-1af4-4e6b-9086-afd90421a3a5",
   "metadata": {},
   "source": [
    "## Stampa di coppie chiave-valore del dizionario"
   ]
  },
  {
   "cell_type": "code",
   "execution_count": 28,
   "id": "f4a8d0c6-0bf1-45e3-bfd5-1eeb99d25342",
   "metadata": {},
   "outputs": [
    {
     "name": "stdout",
     "output_type": "stream",
     "text": [
      "chiave1 valore1\n",
      "chiave2 valore2\n"
     ]
    }
   ],
   "source": [
    "for chiave, valore in dizionario.items():\n",
    "    print(chiave, valore)\n"
   ]
  },
  {
   "cell_type": "markdown",
   "id": "22befe5c-2a42-42da-abb4-7a0f5cfe2337",
   "metadata": {},
   "source": [
    "## Unione di dizionari mantenendo solo le chiavi comuni"
   ]
  },
  {
   "cell_type": "code",
   "execution_count": 33,
   "id": "79ba2b09-c349-4736-8536-2412f298bb35",
   "metadata": {},
   "outputs": [
    {
     "name": "stdout",
     "output_type": "stream",
     "text": [
      "{'b': 2, 'c': 3}\n"
     ]
    }
   ],
   "source": [
    "d1 = {'a': 1, 'b': 2, 'c': 3}\n",
    "d2 = {'b': 4, 'c': 5, 'd': 6}\n",
    "d3 = {chiave: d1[chiave] for chiave in d1 if chiave in d2}\n",
    "print(d3)"
   ]
  },
  {
   "cell_type": "markdown",
   "id": "80f315aa-189e-4232-b088-c2cd0b924b87",
   "metadata": {},
   "source": [
    "## Filtraggio di un dizionario basato su una condizione"
   ]
  },
  {
   "cell_type": "code",
   "execution_count": 34,
   "id": "38b27047-a64d-43a3-ba92-7eaea0e5971f",
   "metadata": {},
   "outputs": [
    {
     "name": "stdout",
     "output_type": "stream",
     "text": [
      "{'c': 30, 'd': 40}\n"
     ]
    }
   ],
   "source": [
    "dizionario = {'a': 10, 'b': 20, 'c': 30, 'd': 40}\n",
    "dizionario_filtrato = {chiave: valore for chiave, valore in dizionario.items() if valore > 20}\n",
    "print(dizionario_filtrato)\n"
   ]
  },
  {
   "cell_type": "markdown",
   "id": "5c0f006d-7b53-45a5-9b63-7d30a4ea56ca",
   "metadata": {},
   "source": [
    "## Calcolo della somma dei valori di un dizionario"
   ]
  },
  {
   "cell_type": "code",
   "execution_count": 35,
   "id": "78c4cf3d-99be-4352-8072-24fd280ed229",
   "metadata": {},
   "outputs": [
    {
     "name": "stdout",
     "output_type": "stream",
     "text": [
      "60\n"
     ]
    }
   ],
   "source": [
    "dizionario = {'a': 10, 'b': 20, 'c': 30}\n",
    "somma_valori = sum(dizionario.values())\n",
    "print(somma_valori)\n"
   ]
  },
  {
   "cell_type": "markdown",
   "id": "f9c57765-7b11-4aa2-8da5-85e73a4a0a39",
   "metadata": {},
   "source": [
    "## Ricerca della chiave con il valore massimo in un dizionario"
   ]
  },
  {
   "cell_type": "code",
   "execution_count": 36,
   "id": "60ea4fc4-19f0-48cd-8130-6411b1ff7330",
   "metadata": {},
   "outputs": [
    {
     "name": "stdout",
     "output_type": "stream",
     "text": [
      "c\n"
     ]
    }
   ],
   "source": [
    "dizionario = {'a': 10, 'b': 20, 'c': 30}\n",
    "chiave_massima = max(dizionario, key=dizionario.get)\n",
    "print(chiave_massima)\n"
   ]
  },
  {
   "cell_type": "markdown",
   "id": "0e5341d1-b7c1-43b5-a88b-fccd71c03a83",
   "metadata": {},
   "source": [
    "## MEGAQUIZ"
   ]
  },
  {
   "cell_type": "code",
   "execution_count": 41,
   "id": "ba05e36b-2bf6-41bd-83f5-f2d02018cf71",
   "metadata": {},
   "outputs": [
    {
     "name": "stdout",
     "output_type": "stream",
     "text": [
      "Qual è il capitale del Giappone?\n",
      "1. Tokyo\n",
      "2. Seoul\n",
      "3. Pechino\n",
      "4. Bangkok\n"
     ]
    },
    {
     "name": "stdin",
     "output_type": "stream",
     "text": [
      "Inserisci il numero della risposta corretta (o 'esci' per uscire):  1\n"
     ]
    },
    {
     "name": "stdout",
     "output_type": "stream",
     "text": [
      "Risposta corretta!\n",
      "Quale è il pianeta più grande del sistema solare?\n",
      "1. Giove\n",
      "2. Marte\n",
      "3. Terra\n",
      "4. Saturno\n"
     ]
    },
    {
     "name": "stdin",
     "output_type": "stream",
     "text": [
      "Inserisci il numero della risposta corretta (o 'esci' per uscire):  1\n"
     ]
    },
    {
     "name": "stdout",
     "output_type": "stream",
     "text": [
      "Risposta corretta!\n",
      "Chi ha dipinto la Monna Lisa?\n",
      "1. Leonardo da Vinci\n",
      "2. Pablo Picasso\n",
      "3. Vincent van Gogh\n",
      "4. Michelangelo\n"
     ]
    },
    {
     "name": "stdin",
     "output_type": "stream",
     "text": [
      "Inserisci il numero della risposta corretta (o 'esci' per uscire):  1\n"
     ]
    },
    {
     "name": "stdout",
     "output_type": "stream",
     "text": [
      "Risposta corretta!\n",
      "Qual è l'organo più grande del corpo umano?\n",
      "1. La pelle\n",
      "2. Il cuore\n",
      "3. Il cervello\n",
      "4. I polmoni\n"
     ]
    },
    {
     "name": "stdin",
     "output_type": "stream",
     "text": [
      "Inserisci il numero della risposta corretta (o 'esci' per uscire):  1\n"
     ]
    },
    {
     "name": "stdout",
     "output_type": "stream",
     "text": [
      "Risposta corretta!\n",
      "Quanti continenti ci sono nel mondo?\n",
      "1. 7\n",
      "2. 5\n",
      "3. 6\n",
      "4. 4\n"
     ]
    },
    {
     "name": "stdin",
     "output_type": "stream",
     "text": [
      "Inserisci il numero della risposta corretta (o 'esci' per uscire):  3\n"
     ]
    },
    {
     "name": "stdout",
     "output_type": "stream",
     "text": [
      "Risposta sbagliata!\n",
      "Chi ha scritto 'Romeo e Giulietta'?\n",
      "1. William Shakespeare\n",
      "2. Charles Dickens\n",
      "3. Jane Austen\n",
      "4. Fyodor Dostoevsky\n"
     ]
    },
    {
     "name": "stdin",
     "output_type": "stream",
     "text": [
      "Inserisci il numero della risposta corretta (o 'esci' per uscire):  esci\n"
     ]
    },
    {
     "name": "stdout",
     "output_type": "stream",
     "text": [
      "Hai deciso di uscire dal gioco.\n",
      "\n",
      "Il tuo punteggio finale è: 4/15\n"
     ]
    }
   ],
   "source": [
    "# Dizionario contenente le domande come chiavi e le risposte come valori (liste)\n",
    "domande = {\n",
    "    \"Qual è il capitale del Giappone?\": [\"Tokyo\", \"Seoul\", \"Pechino\", \"Bangkok\"],\n",
    "    \"Quale è il pianeta più grande del sistema solare?\": [\"Giove\", \"Marte\", \"Terra\", \"Saturno\"],\n",
    "    \"Chi ha dipinto la Monna Lisa?\": [\"Leonardo da Vinci\", \"Pablo Picasso\", \"Vincent van Gogh\", \"Michelangelo\"],\n",
    "    \"Qual è l'organo più grande del corpo umano?\": [\"La pelle\", \"Il cuore\", \"Il cervello\", \"I polmoni\"],\n",
    "    \"Quanti continenti ci sono nel mondo?\": [\"7\", \"5\", \"6\", \"4\"],\n",
    "    \"Chi ha scritto 'Romeo e Giulietta'?\": [\"William Shakespeare\", \"Charles Dickens\", \"Jane Austen\", \"Fyodor Dostoevsky\"],\n",
    "    \"Quale è il fiume più lungo del mondo?\": [\"Nilo\", \"Amazonas\", \"Gange\", \"Mekong\"],\n",
    "    \"Qual è la più grande cascata del mondo?\": [\"Victoria Falls\", \"Niagara Falls\", \"Iguazù Falls\", \"Angel Falls\"],\n",
    "    \"Chi è stato il primo uomo a camminare sulla Luna?\": [\"Neil Armstrong\", \"Buzz Aldrin\", \"Yuri Gagarin\", \"Alan Shepard\"],\n",
    "    \"Qual è l'anno di fondazione di Roma?\": [\"753 a.C.\", \"44 a.C.\", \"476 d.C.\", \"1492\"],\n",
    "    \"In quale paese si trova la Torre Eiffel?\": [\"Francia\", \"Italia\", \"Spagna\", \"Regno Unito\"],\n",
    "    \"Qual è il più grande oceano del mondo?\": [\"Oceano Pacifico\", \"Oceano Atlantico\", \"Oceano Indiano\", \"Oceano Artico\"],\n",
    "    \"Chi è l'autore della famosa opera 'Il flauto magico'?\": [\"Wolfgang Amadeus Mozart\", \"Ludwig van Beethoven\", \"Johann Sebastian Bach\", \"Johannes Brahms\"],\n",
    "    \"Qual è il simbolo chimico dell'oro?\": [\"Au\", \"Ag\", \"Fe\", \"Pb\"],\n",
    "    \"Qual è l'animale terrestre più veloce?\": [\"Ghepardo\", \"Leopardo\", \"Antilope\", \"Leone\"]\n",
    "}\n",
    "\n",
    "# Funzione per eseguire il gioco di trivia\n",
    "def gioco_trivia():\n",
    "    punteggio = 0\n",
    "    for domanda, risposte in domande.items():\n",
    "        print(domanda)\n",
    "        for i, risposta in enumerate(risposte, start=1):\n",
    "            print(f\"{i}. {risposta}\")\n",
    "        \n",
    "        risposta_utente = input(\"Inserisci il numero della risposta corretta (o 'esci' per uscire): \")\n",
    "        \n",
    "        # Verifica se l'utente ha scelto di uscire\n",
    "        if risposta_utente.lower() == 'esci':\n",
    "            print(\"Hai deciso di uscire dal gioco.\")\n",
    "            break\n",
    "        \n",
    "        # Verifica se la risposta inserita è valida\n",
    "        if risposta_utente.isdigit() and 1 <= int(risposta_utente) <= len(risposte):\n",
    "            if risposte[int(risposta_utente) - 1] == risposte[0]:\n",
    "                punteggio += 1\n",
    "                print(\"Risposta corretta!\")\n",
    "            else:\n",
    "                print(\"Risposta sbagliata!\")\n",
    "        else:\n",
    "            print(\"Risposta non valida. Salto alla prossima domanda.\")\n",
    "\n",
    "    # Stampa il punteggio finale dell'utente solo se non ha scelto di uscire\n",
    "    if risposta_utente.lower() != 'q':\n",
    "        print(f\"\\nIl tuo punteggio finale è: {punteggio}/{len(domande)}\")\n",
    "\n",
    "# Esegui il gioco\n",
    "gioco_trivia()"
   ]
  },
  {
   "cell_type": "markdown",
   "id": "19f5de6e-54ff-4289-a218-bb48a4dd1997",
   "metadata": {},
   "source": [
    "# Introduzione ai Booleani\n",
    "\n",
    "I booleani sono un tipo di dato fondamentale in molti linguaggi di programmazione, inclusi Python. Il tipo booleano rappresenta un valore di verità, che può essere vero o falso. Questo concetto è ispirato alla logica booleana sviluppata dal matematico inglese George Boole nel XIX secolo.\n",
    "\n",
    "## Utilità dei Booleani\n",
    "\n",
    "I booleani sono estremamente utili in programmazione per diverse ragioni:\n",
    "\n",
    "1. **Espressione di condizioni**: I booleani sono comunemente utilizzati per esprimere condizioni logiche. Ad esempio, possono essere utilizzati per determinare se una variabile ha un certo valore o se un'espressione è vera o falsa.\n",
    "\n",
    "2. **Decisioni e controllo del flusso**: I booleani sono alla base delle strutture di controllo del flusso come le istruzioni `if`, `else` e `elif`. Queste istruzioni consentono di eseguire parti di codice solo se determinate condizioni sono soddisfatte.\n",
    "\n",
    "3. **Operazioni di confronto**: I booleani vengono utilizzati per confrontare valori. Ad esempio, è possibile verificare se due valori sono uguali, se uno è maggiore di un altro, o se un'espressione è vera o falsa.\n",
    "\n",
    "4. **Filtraggio e selezione**: I booleani sono utilizzati per filtrare dati in base a determinate condizioni. Ad esempio, è possibile filtrare una lista di elementi per selezionare solo quelli che soddisfano una condizione specifica.\n",
    "\n",
    "5. **Valori di ritorno delle funzioni**: Le funzioni in Python possono restituire valori booleani per indicare se un'operazione è stata eseguita con successo o se si è verificato un errore.\n",
    "\n"
   ]
  },
  {
   "cell_type": "markdown",
   "id": "09b06d40-1ea5-4c57-9106-b55df35539e5",
   "metadata": {},
   "source": [
    "## Verifica della condizione e stampa del risultato"
   ]
  },
  {
   "cell_type": "code",
   "execution_count": 42,
   "id": "a3d726f6-6bc0-4fa0-abdd-ba550072022b",
   "metadata": {},
   "outputs": [
    {
     "name": "stdout",
     "output_type": "stream",
     "text": [
      "x è maggiore di dieci? False\n"
     ]
    }
   ],
   "source": [
    "x = 5\n",
    "# Confronto tra valori\n",
    "maggiore_di_dieci = x > 10\n",
    "print(\"x è maggiore di dieci?\", maggiore_di_dieci)  # Stampare False perché x non è maggiore di dieci\n"
   ]
  },
  {
   "cell_type": "markdown",
   "id": "4f0704eb-ddbe-49cd-8356-0c2da98fa204",
   "metadata": {},
   "source": [
    "## Confronto fra 2 valori con una condizione"
   ]
  },
  {
   "cell_type": "code",
   "execution_count": 45,
   "id": "32372871-7fed-4889-97a8-671fc72c2074",
   "metadata": {},
   "outputs": [
    {
     "name": "stdout",
     "output_type": "stream",
     "text": [
      "x è minore di y.\n"
     ]
    }
   ],
   "source": [
    "# Dichiarazione di variabili\n",
    "x = 5\n",
    "y = 7\n",
    "# Utilizzo in un'istruzione condizionale\n",
    "if x > y:\n",
    "    print(\"x è maggiore di y.\")\n",
    "else:\n",
    "    print(\"x è minore di y.\")\n"
   ]
  },
  {
   "cell_type": "markdown",
   "id": "6fa1bac3-9321-499f-9252-c13134f99b3c",
   "metadata": {},
   "source": [
    "##  Filtraggio di una lista"
   ]
  },
  {
   "cell_type": "code",
   "execution_count": 46,
   "id": "637294b5-9dde-460d-a2d7-a5839f594935",
   "metadata": {},
   "outputs": [
    {
     "name": "stdout",
     "output_type": "stream",
     "text": [
      "Numeri positivi: [1, 2, 3]\n"
     ]
    }
   ],
   "source": [
    "# Lista di numeri\n",
    "numeri = [1, 2, 3, -1, -2, -3, 0]\n",
    "\n",
    "# Filtraggio di numeri positivi\n",
    "numeri_positivi = [num for num in numeri if num > 0]\n",
    "print(\"Numeri positivi:\", numeri_positivi)\n"
   ]
  },
  {
   "cell_type": "markdown",
   "id": "5e12411a-cac0-460a-9192-d6c3d8dcda0e",
   "metadata": {},
   "source": [
    "## Utilizzo di una doppia condizione"
   ]
  },
  {
   "cell_type": "code",
   "execution_count": 47,
   "id": "894d1158-eca8-4e4e-9343-eec7c057b3ce",
   "metadata": {},
   "outputs": [
    {
     "name": "stdout",
     "output_type": "stream",
     "text": [
      "Oggi è una bella giornata!\n"
     ]
    }
   ],
   "source": [
    "# Dichiarazione di variabili booleane\n",
    "sole = True\n",
    "nuvole = False\n",
    "\n",
    "# Utilizzo di una doppia condizione in un'istruzione condizionale\n",
    "if sole and not nuvole:\n",
    "    print(\"Oggi è una bella giornata!\")\n",
    "else:\n",
    "    print(\"Il cielo non è sereno.\")\n"
   ]
  },
  {
   "cell_type": "markdown",
   "id": "f04bfb4d-0eba-4927-b9ee-a95a77de7dd0",
   "metadata": {},
   "source": [
    "## Verifica se una lista è vuota"
   ]
  },
  {
   "cell_type": "code",
   "execution_count": 48,
   "id": "bca11339-cc9a-4030-8d13-8c05c7d8cac9",
   "metadata": {},
   "outputs": [
    {
     "name": "stdout",
     "output_type": "stream",
     "text": [
      "La lista è vuota? True\n"
     ]
    }
   ],
   "source": [
    "# Dichiarazione di una lista\n",
    "lista = []\n",
    "\n",
    "# Utilizzo di una condizione booleana per verificare se la lista è vuota\n",
    "vuota = not lista\n",
    "print(\"La lista è vuota?\", vuota)\n"
   ]
  },
  {
   "cell_type": "markdown",
   "id": "38057ff4-79d4-4792-8c77-da46f9998692",
   "metadata": {},
   "source": [
    "## Controllo se una stringa è vuota"
   ]
  },
  {
   "cell_type": "code",
   "execution_count": 49,
   "id": "e1d57038-3dbe-4bea-995b-1eda83f37901",
   "metadata": {},
   "outputs": [
    {
     "name": "stdout",
     "output_type": "stream",
     "text": [
      "La stringa è vuota? False\n"
     ]
    }
   ],
   "source": [
    "# Dichiarazione di una variabile stringa\n",
    "testo = \"SDFOIUHSDF\"\n",
    "\n",
    "# Utilizzo di una condizione booleana per verificare se la stringa è vuota\n",
    "vuota = testo == \"\"\n",
    "print(\"La stringa è vuota?\", vuota)\n"
   ]
  },
  {
   "cell_type": "markdown",
   "id": "3652f925-c65b-4919-9a68-79479e5cee7c",
   "metadata": {},
   "source": [
    "## Controllo se un numero è divisibile per un altro"
   ]
  },
  {
   "cell_type": "code",
   "execution_count": 50,
   "id": "d4c0435f-7f06-44f0-9363-49c5778de955",
   "metadata": {},
   "outputs": [
    {
     "name": "stdout",
     "output_type": "stream",
     "text": [
      "Il numero è divisibile per il divisore? True\n"
     ]
    }
   ],
   "source": [
    "# Dichiarazione di due variabili numeriche\n",
    "numero = 10\n",
    "divisore = 2\n",
    "\n",
    "# Utilizzo di una condizione booleana per verificare se il numero è divisibile per il divisore\n",
    "divisibile = numero % divisore == 0\n",
    "print(\"Il numero è divisibile per il divisore?\", divisibile)\n"
   ]
  },
  {
   "cell_type": "markdown",
   "id": "f6bd175d-692c-43fb-b63e-8a435d1b53dc",
   "metadata": {},
   "source": [
    "## Verifica se una lettera è una vocale"
   ]
  },
  {
   "cell_type": "code",
   "execution_count": 52,
   "id": "88d3cf03-a4f1-4f8d-b5de-cfee305d3fca",
   "metadata": {},
   "outputs": [
    {
     "name": "stdout",
     "output_type": "stream",
     "text": [
      "La lettera è una vocale? False\n"
     ]
    }
   ],
   "source": [
    "# Dichiarazione di una variabile stringa\n",
    "lettera = 'J'\n",
    "\n",
    "# Utilizzo di una condizione booleana per verificare se la lettera è una vocale\n",
    "vocale = lettera.lower() in ['a', 'e', 'i', 'o', 'u']\n",
    "print(\"La lettera è una vocale?\", vocale)\n"
   ]
  },
  {
   "cell_type": "markdown",
   "id": "d310a079-e082-4c6e-8ca2-5978d0ea77b6",
   "metadata": {},
   "source": [
    "## Indovina il Colore"
   ]
  },
  {
   "cell_type": "code",
   "execution_count": 54,
   "id": "cb207117-108b-45b7-ab4f-808eec6b1076",
   "metadata": {},
   "outputs": [
    {
     "name": "stdout",
     "output_type": "stream",
     "text": [
      "Benvenuto a Indovina il Colore!\n",
      "Il computer ha scelto un colore tra rosso, verde, blu, giallo, arancione e viola.\n"
     ]
    },
    {
     "name": "stdin",
     "output_type": "stream",
     "text": [
      "\n",
      "Indovina il colore:  blu\n"
     ]
    },
    {
     "name": "stdout",
     "output_type": "stream",
     "text": [
      "Complimenti! Hai indovinato il colore.\n"
     ]
    }
   ],
   "source": [
    "import random  # Importa il modulo random per la scelta casuale di un colore\n",
    "\n",
    "# Funzione per scegliere casualmente un colore dalla lista\n",
    "def scegli_colore():\n",
    "    colori = [\"rosso\", \"verde\", \"blu\", \"giallo\", \"arancione\", \"viola\"]\n",
    "    return random.choice(colori)\n",
    "\n",
    "# Funzione principale del gioco\n",
    "def gioca():\n",
    "    print(\"Benvenuto a Indovina il Colore!\")\n",
    "    print(\"Il computer ha scelto un colore tra rosso, verde, blu, giallo, arancione e viola.\")\n",
    "    \n",
    "    colore_scelto = scegli_colore()  # Il computer sceglie casualmente un colore\n",
    "    while True:  # Loop finché l'utente vuole continuare a giocare\n",
    "        guess = input(\"\\nIndovina il colore: \").lower()  # L'utente inserisce il suo indovinello e lo converte in minuscolo\n",
    "        if guess not in [\"rosso\", \"verde\", \"blu\", \"giallo\", \"arancione\", \"viola\"]:  # Controlla se il colore inserito è valido\n",
    "            print(\"Inserisci un colore valido tra rosso, verde, blu, giallo, arancione e viola.\")\n",
    "            continue  # Torna all'inizio del loop se il colore non è valido\n",
    "        \n",
    "        if guess == colore_scelto:  # Controlla se l'indovinello dell'utente è corretto\n",
    "            print(\"Complimenti! Hai indovinato il colore.\")\n",
    "            break  # Esce dal loop se l'indovinello è corretto\n",
    "        else:\n",
    "            print(\"Sbagliato! Prova di nuovo.\")\n",
    "\n",
    "        continua = input(\"Vuoi continuare a giocare? (sì/no): \").lower()  # Chiede all'utente se vuole continuare a giocare\n",
    "        if continua != \"sì\":  # Controlla se l'utente desidera smettere di giocare\n",
    "            print(\"Grazie per aver giocato!\")\n",
    "            break  # Esce dal loop se l'utente non vuole continuare a giocare\n",
    "\n",
    "# Esegue la funzione principale del gioco\n",
    "gioca()\n"
   ]
  },
  {
   "cell_type": "code",
   "execution_count": null,
   "id": "937e7fcb-f659-4092-a9e5-3282a58c89ff",
   "metadata": {},
   "outputs": [],
   "source": []
  }
 ],
 "metadata": {
  "kernelspec": {
   "display_name": "Python 3 (ipykernel)",
   "language": "python",
   "name": "python3"
  },
  "language_info": {
   "codemirror_mode": {
    "name": "ipython",
    "version": 3
   },
   "file_extension": ".py",
   "mimetype": "text/x-python",
   "name": "python",
   "nbconvert_exporter": "python",
   "pygments_lexer": "ipython3",
   "version": "3.11.5"
  }
 },
 "nbformat": 4,
 "nbformat_minor": 5
}
